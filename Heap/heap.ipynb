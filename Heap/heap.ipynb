{
 "cells": [
  {
   "cell_type": "code",
   "execution_count": 32,
   "metadata": {},
   "outputs": [],
   "source": [
    "nums=[1,2,3,4,5]"
   ]
  },
  {
   "cell_type": "code",
   "execution_count": 33,
   "metadata": {},
   "outputs": [],
   "source": [
    "def adjust_heap(idx, max_len,nums):\n",
    "    left = 2 * idx + 1\n",
    "    right = 2 * idx + 2\n",
    "    max_loc = idx\n",
    "    if left < max_len and nums[max_loc] < nums[left]:\n",
    "        max_loc = left\n",
    "    if right < max_len and nums[max_loc] < nums[right]:\n",
    "        max_loc = right\n",
    "    if max_loc != idx:\n",
    "        nums[idx], nums[max_loc] = nums[max_loc], nums[idx]\n",
    "        adjust_heap(max_loc, max_len,nums)"
   ]
  },
  {
   "cell_type": "code",
   "execution_count": 34,
   "metadata": {},
   "outputs": [
    {
     "name": "stdout",
     "output_type": "stream",
     "text": [
      "heap: [5, 4, 3, 1, 2]\n"
     ]
    }
   ],
   "source": [
    "def build_heap(nums):    \n",
    "    n = len(nums)\n",
    "    for i in range(n // 2 - 1, -1, -1):\n",
    "        adjust_heap(i, n,nums)\n",
    "    return nums\n",
    "heap=build_heap(nums)\n",
    "print(\"heap:\",heap)"
   ]
  },
  {
   "cell_type": "code",
   "execution_count": 35,
   "metadata": {},
   "outputs": [
    {
     "name": "stdout",
     "output_type": "stream",
     "text": [
      "heapIns: [6, 4, 5, 1, 2, 3]\n"
     ]
    }
   ],
   "source": [
    "def heap_insert(heap,num):\n",
    "    heap=heap+[num]\n",
    "    n=len(heap)\n",
    "    i=n-1\n",
    "    while i>0 and heap[(i-1)//2]<num:\n",
    "        heap[i]=heap[(i-1)//2]\n",
    "        i=(i-1)//2\n",
    "    heap[i]=num\n",
    "    return heap\n",
    "heap=heap_insert(heap,6)\n",
    "print(\"heapIns:\",heap)"
   ]
  },
  {
   "cell_type": "code",
   "execution_count": 36,
   "metadata": {},
   "outputs": [
    {
     "name": "stdout",
     "output_type": "stream",
     "text": [
      "heapDel: [5, 4, 3, 1, 2]\n"
     ]
    }
   ],
   "source": [
    "def heap_delete(heap,idx):\n",
    "    n=len(heap)\n",
    "    heap[idx],heap[-1]=heap[-1],heap[idx]\n",
    "    adjust_heap(idx, n - 1,heap)\n",
    "    heap.pop()\n",
    "    return heap\n",
    "heap=heap_delete(heap,0)\n",
    "print(\"heapDel:\",heap)"
   ]
  },
  {
   "cell_type": "code",
   "execution_count": 37,
   "metadata": {},
   "outputs": [
    {
     "name": "stdout",
     "output_type": "stream",
     "text": [
      "heapSort: [1, 2, 3, 4, 5]\n"
     ]
    }
   ],
   "source": [
    "#由于调用adjust_heap()会刷新heap，请勿多次执行heap_sorted()，或每次sort都执行整段程序\n",
    "def heap_sorted(heap):\n",
    "    for i in range(1, len(heap)):\n",
    "        heap[0], heap[-i] = heap[-i], heap[0]\n",
    "        adjust_heap(0, n - i,heap)\n",
    "    return heap\n",
    "heapSort=heap_sorted(heap)\n",
    "print(\"heapSort:\",heapSort)"
   ]
  },
  {
   "cell_type": "code",
   "execution_count": null,
   "metadata": {},
   "outputs": [],
   "source": []
  }
 ],
 "metadata": {
  "kernelspec": {
   "display_name": "Python 3",
   "language": "python",
   "name": "python3"
  },
  "language_info": {
   "codemirror_mode": {
    "name": "ipython",
    "version": 3
   },
   "file_extension": ".py",
   "mimetype": "text/x-python",
   "name": "python",
   "nbconvert_exporter": "python",
   "pygments_lexer": "ipython3",
   "version": "3.7.3"
  }
 },
 "nbformat": 4,
 "nbformat_minor": 2
}
